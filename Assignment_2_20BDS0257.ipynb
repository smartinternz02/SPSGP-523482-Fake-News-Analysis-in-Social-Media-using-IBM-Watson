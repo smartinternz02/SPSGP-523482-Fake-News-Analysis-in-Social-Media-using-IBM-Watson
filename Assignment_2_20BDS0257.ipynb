{
  "nbformat": 4,
  "nbformat_minor": 0,
  "metadata": {
    "colab": {
      "provenance": []
    },
    "kernelspec": {
      "name": "python3",
      "display_name": "Python 3"
    },
    "language_info": {
      "name": "python"
    }
  },
  "cells": [
    {
      "cell_type": "code",
      "execution_count": null,
      "metadata": {
        "id": "tWrKESjRTsA_"
      },
      "outputs": [],
      "source": [
        "import numpy as np\n",
        "import pandas as pd\n",
        "from sklearn.preprocessing import LabelEncoder\n",
        "from tensorflow.keras.models import Sequential\n",
        "from tensorflow.keras.layers import Dense"
      ]
    },
    {
      "cell_type": "code",
      "source": [
        "# Read the dataset\n",
        "data = pd.read_csv('drug200.csv')"
      ],
      "metadata": {
        "id": "bSJmI7pNT0uV"
      },
      "execution_count": null,
      "outputs": []
    },
    {
      "cell_type": "code",
      "source": [
        "# Perform data pre-processing\n",
        "label_encoder = LabelEncoder()\n",
        "data['Drug'] = label_encoder.fit_transform(data['Drug'])\n",
        "data = pd.get_dummies(data, columns=['Sex', 'BP', 'Cholesterol'])"
      ],
      "metadata": {
        "id": "MPP4gYloT7-1"
      },
      "execution_count": null,
      "outputs": []
    },
    {
      "cell_type": "code",
      "source": [
        "# Split the dataset into input features (X) and target variable (y)\n",
        "X = data.drop('Drug', axis=1).astype(float)\n",
        "y = data['Drug']"
      ],
      "metadata": {
        "id": "vgE7VFdbT-wj"
      },
      "execution_count": null,
      "outputs": []
    },
    {
      "cell_type": "code",
      "source": [
        "# Define the model architecture\n",
        "model = Sequential()\n",
        "model.add(Dense(64, activation='relu', input_dim=X.shape[1]))  # Input layer\n",
        "model.add(Dense(128, activation='relu'))  # Hidden layer 1\n",
        "model.add(Dense(64, activation='relu'))  # Hidden layer 2\n",
        "model.add(Dense(32, activation='relu'))  # Hidden layer 3\n",
        "model.add(Dense(len(y.unique()), activation='softmax'))  # Output layer"
      ],
      "metadata": {
        "id": "hrWCRtAuUCeX"
      },
      "execution_count": null,
      "outputs": []
    },
    {
      "cell_type": "code",
      "source": [
        "# Compile the model\n",
        "model.compile(optimizer='adam', loss='sparse_categorical_crossentropy', metrics=['accuracy'])"
      ],
      "metadata": {
        "id": "mvl1DXSgUE97"
      },
      "execution_count": null,
      "outputs": []
    },
    {
      "cell_type": "code",
      "source": [
        "# Train the model\n",
        "model.fit(X, y, epochs=10, batch_size=32)"
      ],
      "metadata": {
        "colab": {
          "base_uri": "https://localhost:8080/"
        },
        "id": "BcNPr1vNUHiO",
        "outputId": "fdf37f69-9d86-4e15-f02c-8f7617d74005"
      },
      "execution_count": null,
      "outputs": [
        {
          "output_type": "stream",
          "name": "stdout",
          "text": [
            "Epoch 1/10\n",
            "7/7 [==============================] - 1s 3ms/step - loss: 1.5866 - accuracy: 0.4400\n",
            "Epoch 2/10\n",
            "7/7 [==============================] - 0s 2ms/step - loss: 1.2043 - accuracy: 0.5450\n",
            "Epoch 3/10\n",
            "7/7 [==============================] - 0s 2ms/step - loss: 1.0901 - accuracy: 0.5200\n",
            "Epoch 4/10\n",
            "7/7 [==============================] - 0s 3ms/step - loss: 1.0403 - accuracy: 0.5700\n",
            "Epoch 5/10\n",
            "7/7 [==============================] - 0s 3ms/step - loss: 1.0160 - accuracy: 0.5700\n",
            "Epoch 6/10\n",
            "7/7 [==============================] - 0s 2ms/step - loss: 0.9989 - accuracy: 0.5650\n",
            "Epoch 7/10\n",
            "7/7 [==============================] - 0s 3ms/step - loss: 0.9929 - accuracy: 0.5800\n",
            "Epoch 8/10\n",
            "7/7 [==============================] - 0s 2ms/step - loss: 0.9944 - accuracy: 0.5550\n",
            "Epoch 9/10\n",
            "7/7 [==============================] - 0s 2ms/step - loss: 0.9659 - accuracy: 0.5950\n",
            "Epoch 10/10\n",
            "7/7 [==============================] - 0s 2ms/step - loss: 1.0173 - accuracy: 0.5650\n"
          ]
        },
        {
          "output_type": "execute_result",
          "data": {
            "text/plain": [
              "<keras.callbacks.History at 0x7f79f66566b0>"
            ]
          },
          "metadata": {},
          "execution_count": 8
        }
      ]
    },
    {
      "cell_type": "code",
      "source": [
        "# Generate random test data (replace this with your actual test data)\n",
        "num_samples = 5\n",
        "random_test_data = pd.DataFrame({\n",
        "    'Age': [40, 30, 50, 25, 35],\n",
        "    'Sex_F': [1, 0, 0, 1, 0],\n",
        "    'Sex_M': [0, 1, 1, 0, 1],\n",
        "    'BP_HIGH': [0, 1, 0, 1, 0],\n",
        "    'BP_LOW': [1, 0, 0, 0, 1],\n",
        "    'BP_NORMAL': [0, 0, 1, 0, 0],\n",
        "    'Cholesterol_HIGH': [1, 0, 1, 0, 0],\n",
        "    'Cholesterol_NORMAL': [0, 1, 0, 1, 1],\n",
        "    'Cholesterol_LOW': [0, 0, 0, 0, 0]  # Add a column for the missing category\n",
        "}).astype(float)"
      ],
      "metadata": {
        "id": "1Uq92lEEULp0"
      },
      "execution_count": null,
      "outputs": []
    },
    {
      "cell_type": "code",
      "source": [
        "# Make predictions\n",
        "predictions = model.predict(random_test_data)\n"
      ],
      "metadata": {
        "colab": {
          "base_uri": "https://localhost:8080/"
        },
        "id": "mAK-UM0QUOsg",
        "outputId": "61eebf18-d9a5-4e77-a1d4-9ec73c2345b3"
      },
      "execution_count": null,
      "outputs": [
        {
          "output_type": "stream",
          "name": "stdout",
          "text": [
            "1/1 [==============================] - 0s 76ms/step\n"
          ]
        }
      ]
    },
    {
      "cell_type": "code",
      "source": [
        "# Print the predicted classes\n",
        "predicted_classes = predictions.argmax(axis=1)\n",
        "print(\"Predicted Classes:\")\n",
        "for pred_class in predicted_classes:\n",
        "    print(pred_class)"
      ],
      "metadata": {
        "colab": {
          "base_uri": "https://localhost:8080/"
        },
        "id": "zoRVYkQRURWk",
        "outputId": "f3c1450d-93d6-4b36-b35d-1290830d1d2c"
      },
      "execution_count": null,
      "outputs": [
        {
          "output_type": "stream",
          "name": "stdout",
          "text": [
            "Predicted Classes:\n",
            "2\n",
            "2\n",
            "4\n",
            "2\n",
            "2\n"
          ]
        }
      ]
    }
  ]
}